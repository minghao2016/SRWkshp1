{
 "cells": [
  {
   "cell_type": "markdown",
   "metadata": {},
   "source": [
    "## Extracting information from PDB:"
   ]
  },
  {
   "cell_type": "code",
   "execution_count": 19,
   "metadata": {},
   "outputs": [
    {
     "name": "stdout",
     "output_type": "stream",
     "text": [
      "protein residue/atom information of the first two residues:  [(251, 'TYR'), (251, 'TYR'), (251, 'TYR'), (251, 'TYR'), (252, 'ASP'), (252, 'ASP'), (252, 'ASP'), (252, 'ASP'), (252, 'ASP'), (252, 'ASP'), (252, 'ASP'), (252, 'ASP')] \n",
      "\n",
      "protein seq length:  266\n"
     ]
    }
   ],
   "source": [
    "p_6npv.GetNumAtoms()\n",
    "\n",
    "# extract the residue information for each atom:\n",
    "residues = [atom.GetPDBResidueInfo() for atom in p_6npv.GetAtoms()]\n",
    "\n",
    "# number of atoms for each residue\n",
    "resinf = [(res.GetResidueNumber(),res.GetResidueName()) for res in residues]\n",
    "\n",
    "# display them\n",
    "resinf[:10]\n",
    "print('protein residue/atom information of the first two residues: ', resinf[1:13],'\\n')\n",
    "\n",
    "# and get the ordered list of actual residues:\n",
    "residues = sorted(set(resinf))\n",
    "print('protein seq length: ', len(residues))"
   ]
  },
  {
   "cell_type": "markdown",
   "metadata": {},
   "source": [
    "## Fasta as input"
   ]
  },
  {
   "cell_type": "code",
   "execution_count": 20,
   "metadata": {},
   "outputs": [
    {
     "name": "stdout",
     "output_type": "stream",
     "text": [
      "Number of Atoms in 6NPV 2439\n"
     ]
    }
   ],
   "source": [
    "fasta =\"\"\">6NPV:A\n",
    "MHHHHHHENLYFQGSPNYDKWEMERTDITMKHKLGGGQYGEVYEGVWKKYSLTVAVKTLKEDTMEVEEFLKEAAVMKEIK\n",
    "HPNLVQLLGVCTREPPFYIITEFMTYGNLLDYLRECNRQEVNAVVLLYMATQISSAMEYLEKKNFIHRDLAARNCLVGEN\n",
    "HLVKVADFGLSRLMTGDTYTAHAGAKFPIKWTAPESLAYNKFSIKSDVWAFGVLLWEIATYGMSPYPGIDLSQVYELLEK\n",
    "DYRMERPEGCPEKVYELMRACWQWNPSDRPSFAEIHQAFETMFQESSISDEVEKELGK\n",
    "\"\"\"\n",
    "m = Chem.MolFromFASTA(fasta)\n",
    "print(\"Number of Atoms in 6NPV\", m.GetNumAtoms() )\n"
   ]
  }
 ],
 "metadata": {
  "kernelspec": {
   "display_name": "Python 3",
   "language": "python",
   "name": "python3"
  },
  "language_info": {
   "codemirror_mode": {
    "name": "ipython",
    "version": 3
   },
   "file_extension": ".py",
   "mimetype": "text/x-python",
   "name": "python",
   "nbconvert_exporter": "python",
   "pygments_lexer": "ipython3",
   "version": "3.8.1"
  }
 },
 "nbformat": 4,
 "nbformat_minor": 4
}
