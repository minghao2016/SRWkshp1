{
 "cells": [
  {
   "cell_type": "markdown",
   "metadata": {},
   "source": [
    "## Molecular/Chemical information \n",
    "\n",
    "To generate molecular descriptors, we need information about the molecules. The information could be in any of the following formats:\n",
    "a) string of characters (with no spaces) like SMILES, b) SDF formatted file c) 3D mol2/sd/PDB file. For this exercise, we will use SMILES strings as molecular representations. \n",
    "\n",
    "Please click [here](https://en.wikipedia.org/wiki/Simplified_molecular-input_line-entry_system) to read about SMILES,\n",
    "\n",
    "You can also use pdb, SDF, mol2, and other formats to represent molecules but I will not discuss them in this workshop. Please visit the following link for information on these chemical formats, [https://en.wikipedia.org/wiki/Chemical_file_format](https://en.wikipedia.org/wiki/Chemical_file_format)"
   ]
  }
 ],
 "metadata": {
  "kernelspec": {
   "display_name": "Python 3",
   "language": "python",
   "name": "python3"
  },
  "language_info": {
   "codemirror_mode": {
    "name": "ipython",
    "version": 3
   },
   "file_extension": ".py",
   "mimetype": "text/x-python",
   "name": "python",
   "nbconvert_exporter": "python",
   "pygments_lexer": "ipython3",
   "version": "3.8.1"
  }
 },
 "nbformat": 4,
 "nbformat_minor": 4
}
