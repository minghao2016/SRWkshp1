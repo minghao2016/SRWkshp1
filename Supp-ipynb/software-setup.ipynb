{
 "cells": [
  {
   "cell_type": "markdown",
   "metadata": {},
   "source": [
    "## Preliminary Software-setup Information "
   ]
  },
  {
   "cell_type": "markdown",
   "metadata": {},
   "source": [
    "## Software:\n",
    "\n",
    "Here are the open-source software requirements: \n",
    "\n",
    "### **Packages**\n",
    "\n",
    "* **Conda**: Anaconda distribution package manager; https://www.anaconda.com/\n",
    "* **Jupyter Notebook**: https://jupyter.org/\n",
    "\n",
    "### **Python Libraries:**\n",
    "\n",
    "* **pandas**: https://pandas.pydata.org/ \n",
    "* **rdkit**: https://www.rdkit.org/docs/Install.html \n",
    "* **mordred**: a molecular descriptor calculator; https://github.com/mordred-descriptor/mordred \n",
    "* **numpy**: https://numpy.org/ \n",
    "* **concurrent**: https://docs.python.org/3/library/concurrent.futures.html \n",
    "* **os**: https://anaconda.org/jmcmurray/os\n",
    "* **py3dmol** https://github.com/avirshup/py3dmol\n",
    "* **ipymol** https://pypi.org/project/ipymol/\n",
    "\n",
    "**Supporting documents list:**\n",
    "\n",
    "* **rdkit**: \n",
    "    - https://www.rdkit.org/docs/Install.html <br>\n",
    "    - https://github.com/rdkit/rdkit/blob/master/Docs/Book/Install.md\n",
    "    - https://github.com/rdkit/rdkit/blob/master/Docs/Book/Cookbook.md <br>\n",
    "* **SMILES Online generator**: https://cactus.nci.nih.gov/translate/<br>\n",
    "* **SMILES general information**: https://en.wikipedia.org/wiki/Simplified_molecular-input_line-entry_system <br>"
   ]
  },
  {
   "cell_type": "markdown",
   "metadata": {},
   "source": [
    "## Getting ready with rdkit/mordred/Other-libraries using Anaconda\n",
    "\n",
    "Based on our experience, on a high-speed internet connection, the setting up of environments with the above mentioned libraries will \n",
    "take anywhere from 30 to 45 minutes. \n",
    "\n",
    "Please note the attendees will work on a cloud instance for this workshop and wont be needing any \n",
    "local python/library installations. If the workshop attendees want to use the local software (anaconda/Jupyter/other python libraries mentioned above) installed on their laptop (or desktop), then we recommend the attendees to complete/test the software/library installations ahead of time."
   ]
  }
 ],
 "metadata": {
  "kernelspec": {
   "display_name": "Python 3",
   "language": "python",
   "name": "python3"
  },
  "language_info": {
   "codemirror_mode": {
    "name": "ipython",
    "version": 3
   },
   "file_extension": ".py",
   "mimetype": "text/x-python",
   "name": "python",
   "nbconvert_exporter": "python",
   "pygments_lexer": "ipython3",
   "version": "3.8.1"
  }
 },
 "nbformat": 4,
 "nbformat_minor": 4
}
