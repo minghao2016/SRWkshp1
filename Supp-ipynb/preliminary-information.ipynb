{
 "cells": [
  {
   "cell_type": "markdown",
   "metadata": {},
   "source": [
    "## Preliminary Information\n",
    "\n",
    "Latest version of this workshop will be available from the following GitHub site,\n",
    "https://github.com/ravichas/SRWkshp1. I have used [BINDER](https://mybinder.org/) server to convert workshop materials into dynamic Jupyter notebook(s). The BINDER instance can be accessed (look for launch binder logo) from the [GitHub](https://github.com/ravichas/SRWkshp1) site. \n",
    "\n",
    "GitHub site contains information on how to install Python libraries (via conda) and run the Jupyter notebook on your system. To be clear, you do not need to install any software if you are using our BINDER instance.  \n",
    "\n",
    "Please note that this is the first part of NIH.AI ML Workshop-1. The second part, [Workshop-1a](https://github.com/ravichas/SRWkshp1a), is the continuation where we will cover the application of Machine-Learning (ML) methods to predict drug fuction using Ensembl methods such as RandomForest. \n",
    "\n",
    "This workshop is a primer on how to explore small (drug-like) molecule chemical structures and generate descriptors for Machine-learning. This effort is part of the knowledge/capabilities-transfer for the NCI-DOE Pilot projects; details are shown [here](https://datascience.cancer.gov/collaborations/joint-design-advanced-computing). We will be covering the results of Pilot projects in separate workshop(s). For this workshop, I will use the procedures, tools (python rdkit libraries) and results from the [AMPL](https://arxiv.org/abs/1911.05211) and other Pilot projects to guide us through this effort. Towards this goal, we will follow the **AMPL** feature steps, Data Curation (Data; SMILES), featurization (fingerprints) and analysis. OpenSource software like OpenBabel are used for generating molecular features. Taking into account the avilability of the number of descriptors and user-friendliness, we will use Python based Open-Source Cheminformatics Software, **rdkit**, and **mordred** for this hands-on tutorial. "
   ]
  }
 ],
 "metadata": {
  "kernelspec": {
   "display_name": "Python 3",
   "language": "python",
   "name": "python3"
  },
  "language_info": {
   "codemirror_mode": {
    "name": "ipython",
    "version": 3
   },
   "file_extension": ".py",
   "mimetype": "text/x-python",
   "name": "python",
   "nbconvert_exporter": "python",
   "pygments_lexer": "ipython3",
   "version": "3.8.1"
  }
 },
 "nbformat": 4,
 "nbformat_minor": 4
}
