{
 "cells": [
  {
   "cell_type": "markdown",
   "metadata": {},
   "source": [
    "## What if you want Mordred to generate only selected descriptors?"
   ]
  },
  {
   "cell_type": "code",
   "execution_count": 11,
   "metadata": {},
   "outputs": [],
   "source": [
    "from rdkit import Chem\n",
    "from rdkit.Chem.Draw import IPythonConsole\n",
    "from rdkit.Chem import AllChem\n",
    "from rdkit.Chem import rdDepictor"
   ]
  },
  {
   "cell_type": "code",
   "execution_count": 12,
   "metadata": {},
   "outputs": [
    {
     "data": {
      "text/plain": [
       "0"
      ]
     },
     "execution_count": 12,
     "metadata": {},
     "output_type": "execute_result"
    }
   ],
   "source": [
    "imatinib = 'CC1=C(C=C(C=C1)NC(=O)C2=CC=C(C=C2)CN3CCN(CC3)C)NC4=NC=CC(=N4)C5=CN=CC=C5'\n",
    "imatinib_m = Chem.MolFromSmiles(imatinib)\n",
    "rdDepictor.Compute2DCoords(imatinib_m)\n",
    "\n",
    "dasatinib = 'CC1=C(C(=CC=C1)Cl)NC(=O)C2=CN=C(S2)NC3=CC(=NC(=N3)C)N4CCN(CC4)CCO'\n",
    "dasatinib_m = Chem.MolFromSmiles(dasatinib)\n",
    "rdDepictor.Compute2DCoords(dasatinib_m)\n",
    " \n",
    "gnf5 = 'C1=CC(=CC(=C1)C(=O)NCCO)C2=CC(=NC=N2)NC3=CC=C(C=C3)OC(F)(F)F'\n",
    "gnf5_m = Chem.MolFromSmiles(gnf5)\n",
    "rdDepictor.Compute2DCoords(gnf5_m)\n",
    " \n",
    "dph = 'C1=CC=C(C=C1)N2C=C(C(=N2)C3=CC=C(C=C3)F)C4C(=O)NC(=O)N4'\n",
    "dph_m = Chem.MolFromSmiles(dph)\n",
    "rdDepictor.Compute2DCoords(dph_m)"
   ]
  },
  {
   "cell_type": "code",
   "execution_count": 15,
   "metadata": {},
   "outputs": [
    {
     "name": "stderr",
     "output_type": "stream",
     "text": [
      "100%|██████████| 4/4 [00:01<00:00,  3.12it/s]\n"
     ]
    },
    {
     "data": {
      "text/html": [
       "<div>\n",
       "<style scoped>\n",
       "    .dataframe tbody tr th:only-of-type {\n",
       "        vertical-align: middle;\n",
       "    }\n",
       "\n",
       "    .dataframe tbody tr th {\n",
       "        vertical-align: top;\n",
       "    }\n",
       "\n",
       "    .dataframe thead th {\n",
       "        text-align: right;\n",
       "    }\n",
       "</style>\n",
       "<table border=\"1\" class=\"dataframe\">\n",
       "  <thead>\n",
       "    <tr style=\"text-align: right;\">\n",
       "      <th></th>\n",
       "      <th>nHBAcc</th>\n",
       "      <th>nHBDon</th>\n",
       "      <th>nRing</th>\n",
       "      <th>nRot</th>\n",
       "      <th>SLogP</th>\n",
       "      <th>TopoPSA</th>\n",
       "      <th>MW</th>\n",
       "    </tr>\n",
       "  </thead>\n",
       "  <tbody>\n",
       "    <tr>\n",
       "      <th>0</th>\n",
       "      <td>7</td>\n",
       "      <td>2</td>\n",
       "      <td>5</td>\n",
       "      <td>7</td>\n",
       "      <td>4.59032</td>\n",
       "      <td>86.28</td>\n",
       "      <td>493.259009</td>\n",
       "    </tr>\n",
       "    <tr>\n",
       "      <th>1</th>\n",
       "      <td>9</td>\n",
       "      <td>3</td>\n",
       "      <td>4</td>\n",
       "      <td>7</td>\n",
       "      <td>3.31354</td>\n",
       "      <td>134.75</td>\n",
       "      <td>487.155722</td>\n",
       "    </tr>\n",
       "    <tr>\n",
       "      <th>2</th>\n",
       "      <td>6</td>\n",
       "      <td>3</td>\n",
       "      <td>3</td>\n",
       "      <td>7</td>\n",
       "      <td>3.50790</td>\n",
       "      <td>96.37</td>\n",
       "      <td>418.125275</td>\n",
       "    </tr>\n",
       "    <tr>\n",
       "      <th>3</th>\n",
       "      <td>4</td>\n",
       "      <td>2</td>\n",
       "      <td>4</td>\n",
       "      <td>3</td>\n",
       "      <td>2.55890</td>\n",
       "      <td>76.02</td>\n",
       "      <td>336.102254</td>\n",
       "    </tr>\n",
       "  </tbody>\n",
       "</table>\n",
       "</div>"
      ],
      "text/plain": [
       "   nHBAcc  nHBDon  nRing  nRot    SLogP  TopoPSA          MW\n",
       "0       7       2      5     7  4.59032    86.28  493.259009\n",
       "1       9       3      4     7  3.31354   134.75  487.155722\n",
       "2       6       3      3     7  3.50790    96.37  418.125275\n",
       "3       4       2      4     3  2.55890    76.02  336.102254"
      ]
     },
     "execution_count": 15,
     "metadata": {},
     "output_type": "execute_result"
    }
   ],
   "source": [
    "from mordred import Calculator, descriptors\n",
    "\n",
    "# calc = Calculator([ ABCIndex, AcidBase.AcidicGroupCount, Weight.Weight(),ZagrebIndex.ZagrebIndex(1, 1),   \n",
    "#     WienerIndex.WienerIndex(False), ], ignore_3D=True)\n",
    "# print(len(calc.descriptors))  # 6\n",
    "\n",
    "descriptor_list = {'MW', 'nHBDon','nRing','nHBAcc',\n",
    "                   'nRot','SLogP','TopoPSA'}\n",
    "\n",
    "# register all descriptors\n",
    "calc = Calculator(descriptors, ignore_3D=True)\n",
    "\n",
    "# calculate multiple molecule\n",
    "# re-register subset of descriptors\n",
    "calc.descriptors = [d for d in calc.descriptors if str(d) in descriptor_list]\n",
    "\n",
    "mols = [Chem.MolFromSmiles(smi) for smi in [imatinib, dasatinib, gnf5, dph]]\n",
    "\n",
    "df1 = calc.pandas(mols)\n",
    "df1"
   ]
  },
  {
   "cell_type": "markdown",
   "metadata": {},
   "source": [
    "## Using mordred you can create your own descriptor combinations"
   ]
  },
  {
   "cell_type": "code",
   "execution_count": 14,
   "metadata": {},
   "outputs": [
    {
     "name": "stdout",
     "output_type": "stream",
     "text": [
      "(SLogP*Lipinski)\n",
      "1.6866\n"
     ]
    }
   ],
   "source": [
    "from mordred.SLogP import SLogP\n",
    "from mordred.Lipinski import Lipinski\n",
    "\n",
    "# Start Code 8\n",
    "slogp = SLogP()\n",
    "lipinski = Lipinski()\n",
    "product_term = slogp * lipinski\n",
    "print(str(product_term))\n",
    "print(product_term(Chem.MolFromSmiles(\"c1ccccc1\")))"
   ]
  },
  {
   "cell_type": "code",
   "execution_count": null,
   "metadata": {},
   "outputs": [],
   "source": []
  }
 ],
 "metadata": {
  "kernelspec": {
   "display_name": "Python 3",
   "language": "python",
   "name": "python3"
  },
  "language_info": {
   "codemirror_mode": {
    "name": "ipython",
    "version": 3
   },
   "file_extension": ".py",
   "mimetype": "text/x-python",
   "name": "python",
   "nbconvert_exporter": "python",
   "pygments_lexer": "ipython3",
   "version": "3.8.1"
  }
 },
 "nbformat": 4,
 "nbformat_minor": 4
}
